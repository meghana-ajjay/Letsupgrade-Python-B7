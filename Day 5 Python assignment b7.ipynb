{
 "cells": [
  {
   "cell_type": "code",
   "execution_count": 3,
   "metadata": {},
   "outputs": [
    {
     "name": "stdout",
     "output_type": "stream",
     "text": [
      "Original list : [9, 1, 5, 1, 10]\n",
      "Original sub list : [5, 1, 1, 9]\n",
      "Its match.\n"
     ]
    }
   ],
   "source": [
    "# initializing list \n",
    "test_list = [9, 1, 5, 1, 10] \n",
    "sub_list = [5,1,1,9] \n",
    "  \n",
    "# printing original lists \n",
    "print (\"Original list : \" + str(test_list)) \n",
    "print (\"Original sub list : \" + str(sub_list)) \n",
    "  \n",
    " \n",
    "# check subset of list  \n",
    "flag = 0\n",
    "if(set(sub_list).issubset(set(test_list))): \n",
    "    flag = 1\n",
    "      \n",
    "# printing result \n",
    "if (flag) : \n",
    "    print (\"Its match.\") \n",
    "else : \n",
    "    print (\" its gone.\") "
   ]
  },
  {
   "cell_type": "code",
   "execution_count": null,
   "metadata": {},
   "outputs": [],
   "source": []
  }
 ],
 "metadata": {
  "kernelspec": {
   "display_name": "Python 3",
   "language": "python",
   "name": "python3"
  },
  "language_info": {
   "codemirror_mode": {
    "name": "ipython",
    "version": 3
   },
   "file_extension": ".py",
   "mimetype": "text/x-python",
   "name": "python",
   "nbconvert_exporter": "python",
   "pygments_lexer": "ipython3",
   "version": "3.8.3"
  }
 },
 "nbformat": 4,
 "nbformat_minor": 4
}
